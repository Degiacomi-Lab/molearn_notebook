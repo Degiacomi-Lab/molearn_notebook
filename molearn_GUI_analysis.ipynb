{
 "cells": [
  {
   "cell_type": "markdown",
   "id": "7c6c338e",
   "metadata": {},
   "source": [
    "# USING AND VISUALIZING A TRAINED NEURAL NETWORK"
   ]
  },
  {
   "cell_type": "markdown",
   "id": "84de871e",
   "metadata": {},
   "source": [
    "In this notebook, we will visualize the latent space of a trained neural network, and use it to generate protein interpolations. Let's start by loading two useful classes!"
   ]
  },
  {
   "cell_type": "code",
   "execution_count": 1,
   "id": "1ea02ce3",
   "metadata": {},
   "outputs": [
    {
     "data": {
      "application/vnd.jupyter.widget-view+json": {
       "model_id": "1ee3865d40f54c1396c968d65a4fdf03",
       "version_major": 2,
       "version_minor": 0
      },
      "text/plain": []
     },
     "metadata": {},
     "output_type": "display_data"
    }
   ],
   "source": [
    "from analysis import MolearnAnalysis, MolearnGUI"
   ]
  },
  {
   "cell_type": "markdown",
   "id": "a125db43",
   "metadata": {},
   "source": [
    "These are the paths to files containing the neural network parameters, the training set, and the test set."
   ]
  },
  {
   "cell_type": "code",
   "execution_count": 2,
   "id": "930348c8",
   "metadata": {},
   "outputs": [],
   "source": [
    "networkfile = \"C:\\\\temp\\\\Dropbox\\\\Durham\\\\data\\\\neural_net\\\\conv1d-physics-path_B.pth\"\n",
    "training_set_file = \"MurD_closed_open_strided.pdb\"\n",
    "test_set_file = \"MurD_closed_apo_strided.pdb\""
   ]
  },
  {
   "cell_type": "markdown",
   "id": "e2836312",
   "metadata": {},
   "source": [
    "The MolearnAnalysis class features a series of methods to characterize the latent space of a neural network, assessing its performance, and generating new protein conformations."
   ]
  },
  {
   "cell_type": "code",
   "execution_count": 3,
   "id": "416c09e1",
   "metadata": {},
   "outputs": [
    {
     "name": "stdout",
     "output_type": "stream",
     "text": [
      "Getting rmsd from file:  rmsd_matrix.npy\n",
      "Conformations: (also saved to dataset_conformations.npy)\n",
      "[]\n"
     ]
    }
   ],
   "source": [
    "MA = MolearnAnalysis(networkfile, training_set_file)"
   ]
  },
  {
   "cell_type": "markdown",
   "id": "242866b0",
   "metadata": {},
   "source": [
    "Optionally, we can load a test set. The test set read by the network is returned to the user, and also stored internally. In case multiple test sets are available, the last one being loaded is stored internally."
   ]
  },
  {
   "cell_type": "code",
   "execution_count": 4,
   "id": "d43a153d",
   "metadata": {},
   "outputs": [
    {
     "name": "stdout",
     "output_type": "stream",
     "text": [
      "Getting rmsd from file:  rmsd_matrix.npy\n",
      "rmsd_from_file: rmsd_matrix.npy is not a valid filename or doesnt exist\n",
      "rmsd not found therefore I have to calculate it\n",
      "rmsd calcs Done\n",
      "Conformations: (also saved to dataset_conformations.npy)\n",
      "[]\n"
     ]
    }
   ],
   "source": [
    "test_set = MA.load_test(test_set_file)"
   ]
  },
  {
   "cell_type": "markdown",
   "id": "a63bd7fe",
   "metadata": {},
   "source": [
    "The following methods yield information on RMSD and DOPE score of training and test set."
   ]
  },
  {
   "cell_type": "code",
   "execution_count": null,
   "id": "c8ec172d",
   "metadata": {},
   "outputs": [],
   "source": [
    "err_train = MA.get_error()\n",
    "err_test = MA.get_error(test_set)\n",
    "dope_train, dope_train_decoded = MA.get_dope()\n",
    "dope_test, dope_test_decoded = MA.get_dope(test_set)"
   ]
  },
  {
   "cell_type": "markdown",
   "id": "370c723a",
   "metadata": {},
   "source": [
    "the following methods perform a grid search of the latent space to assess L2 norm in latent and 3D space, and the local DOPE score (see Jupyter notebook `molearn_analysis.ipynb`). The output of these commands is also stored internally.\n",
    "Here, we will generate 50x50 grids around the training set (plus/minus 10%)."
   ]
  },
  {
   "cell_type": "code",
   "execution_count": 5,
   "id": "a8aef916",
   "metadata": {
    "scrolled": true
   },
   "outputs": [],
   "source": [
    "landscape_err, xaxis, yaxis = MA.scan_error(samples=50)\n",
    "landscape_dope, xaxis, yaxis = MA.scan_dope(samples=50)"
   ]
  },
  {
   "cell_type": "markdown",
   "id": "48fdbceb",
   "metadata": {},
   "source": [
    "Now that we have loaded some information in our MolearnAnalysis object, it's time to explore its contents! Let's create a MolearnGUI object, creating an interactive interface! To visualize generated proteins in 3D, click on the 2D surface."
   ]
  },
  {
   "cell_type": "code",
   "execution_count": 6,
   "id": "ab213004",
   "metadata": {},
   "outputs": [
    {
     "data": {
      "application/vnd.jupyter.widget-view+json": {
       "model_id": "d1cf59341e6a41789d2d3ab91a5cdd0d",
       "version_major": 2,
       "version_minor": 0
      },
      "text/plain": [
       "HBox(children=(VBox(children=(Checkbox(value=False, description='show training', indent=False, layout=Layout(f…"
      ]
     },
     "metadata": {},
     "output_type": "display_data"
    }
   ],
   "source": [
    "MG = MolearnGUI(MA)"
   ]
  },
  {
   "cell_type": "code",
   "execution_count": null,
   "id": "497a9068",
   "metadata": {},
   "outputs": [],
   "source": []
  }
 ],
 "metadata": {
  "kernelspec": {
   "display_name": "Python 3 (ipykernel)",
   "language": "python",
   "name": "python3"
  },
  "language_info": {
   "codemirror_mode": {
    "name": "ipython",
    "version": 3
   },
   "file_extension": ".py",
   "mimetype": "text/x-python",
   "name": "python",
   "nbconvert_exporter": "python",
   "pygments_lexer": "ipython3",
   "version": "3.9.10"
  }
 },
 "nbformat": 4,
 "nbformat_minor": 5
}
