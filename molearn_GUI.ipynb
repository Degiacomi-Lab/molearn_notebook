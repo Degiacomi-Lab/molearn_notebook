{
 "cells": [
  {
   "cell_type": "markdown",
   "id": "7c6c338e",
   "metadata": {},
   "source": [
    "# VISUALIZING A TRAINED NEURAL NETWORK"
   ]
  },
  {
   "cell_type": "markdown",
   "id": "7cfdd9a6",
   "metadata": {},
   "source": [
    "## 1. Neural network analysis"
   ]
  },
  {
   "cell_type": "markdown",
   "id": "84de871e",
   "metadata": {},
   "source": [
    "In this notebook, we will visualize the latent space of a trained neural network, and use it to generate protein interpolations. Let's start by loading two useful classes."
   ]
  },
  {
   "cell_type": "code",
   "execution_count": null,
   "id": "1ea02ce3",
   "metadata": {},
   "outputs": [],
   "source": [
    "import os\n",
    "from analysis import MolearnAnalysis"
   ]
  },
  {
   "cell_type": "markdown",
   "id": "a125db43",
   "metadata": {},
   "source": [
    "These are the paths to files containing the neural network parameters, the training set, and the test set."
   ]
  },
  {
   "cell_type": "code",
   "execution_count": null,
   "id": "930348c8",
   "metadata": {},
   "outputs": [],
   "source": [
    "networkfile = f'data{os.sep}conv1d-physics-path_B.pth'\n",
    "training_set_file = f'data{os.sep}MurD_closed_open_strided.pdb'\n",
    "test_set_file = f'data{os.sep}MurD_closed_apo_strided.pdb'"
   ]
  },
  {
   "cell_type": "markdown",
   "id": "e2836312",
   "metadata": {},
   "source": [
    "The `MolearnAnalysis` class features a series of methods to characterize the latent space of a neural network, assessing its performance, and generating new protein conformations. Its constructor requires two parameters: neural network parameters and a multiPDB containing the coordinates of the examples the neural network was trained with. Optional parameters enable the user to define the neural network architecture (if other than default) and atoms selected from training (backbone and beta carbon by default)."
   ]
  },
  {
   "cell_type": "code",
   "execution_count": null,
   "id": "416c09e1",
   "metadata": {},
   "outputs": [],
   "source": [
    "MA = MolearnAnalysis(networkfile, training_set_file)"
   ]
  },
  {
   "cell_type": "markdown",
   "id": "242866b0",
   "metadata": {},
   "source": [
    "Optionally, we can load a test set. The test set read by the network is returned to the user in two forms: a normalised pyTorch Tensor (useful to be fed to the neural network) and a numpy array (for displaying). The test set is also stored in the `MolearnAnalysis` object. In case multiple test sets are available, the last one being loaded is stored."
   ]
  },
  {
   "cell_type": "code",
   "execution_count": null,
   "id": "d43a153d",
   "metadata": {},
   "outputs": [],
   "source": [
    "test_set = MA.load_test(test_set_file)"
   ]
  },
  {
   "cell_type": "markdown",
   "id": "a63bd7fe",
   "metadata": {},
   "source": [
    "The following methods yield information on RMSD and DOPE score of training and test set (this step can be slightly slow, you can skip it if you are in a rush)."
   ]
  },
  {
   "cell_type": "code",
   "execution_count": null,
   "id": "c8ec172d",
   "metadata": {},
   "outputs": [],
   "source": [
    "err_train = MA.get_error() # RMSD of traing set\n",
    "err_test = MA.get_error(test_set[0]) #RMSD of test set\n",
    "dope_train, dope_train_decoded = MA.get_dope() #DOPE score of training set before and after decoding\n",
    "dope_test, dope_test_decoded = MA.get_dope(test_set[0]) #DOPE score of test set before and after decoding"
   ]
  },
  {
   "cell_type": "markdown",
   "id": "370c723a",
   "metadata": {},
   "source": [
    "the following methods perform a grid search of the latent space to assess L2 norm in latent and 3D space, and the local DOPE score (see Jupyter notebook `molearn_analysis.ipynb`). These act as heuristics of neural network precision. The output of these commands is also stored internally in the `MolearnAnalysis` object. Here, we will generate 50x50 grids around the training set (plus/minus 10%). If this method is called again, precalculated versions are returned, unless a different number of samples is passed as parameter. In this case, the grid search is executed again, and new results stored."
   ]
  },
  {
   "cell_type": "markdown",
   "id": "ec2762c7",
   "metadata": {},
   "source": [
    "<div class=\"alert alert-block alert-warning\">\n",
    "<b>Warning:</b> depending on the sampling granularity, this operation can take a long time! Calculating the DOPE score of a 50x50 grid can take ~20 minutes.\n",
    "If you are in a rush, you can skip these steps, or comment out one of the two lines below. The rest of this notebook will still run, though you will not be able to visualize coloured landscapes in the GUI presented in the next section.\n",
    "</div>"
   ]
  },
  {
   "cell_type": "code",
   "execution_count": null,
   "id": "a8aef916",
   "metadata": {
    "scrolled": true
   },
   "outputs": [],
   "source": [
    "landscape_err_latent, landscape_err_3d, xaxis, yaxis = MA.scan_error(samples=50)\n",
    "#landscape_dope, xaxis, yaxis = MA.scan_dope(samples=50)"
   ]
  },
  {
   "cell_type": "markdown",
   "id": "72be411f",
   "metadata": {},
   "source": [
    "An interesting plot, is one where the latent space is coloured as a function of how closely it resembles a target structure. In this example, we pick a random conformation from the test set and compare a grid of the latent space to it in terms of RMSD."
   ]
  },
  {
   "cell_type": "code",
   "execution_count": null,
   "id": "3436b52e",
   "metadata": {},
   "outputs": [],
   "source": [
    "landscape_target_rmsd, xaxis, yaxis = MA.scan_error_from_target(test_set[0][0], samples=50)"
   ]
  },
  {
   "cell_type": "markdown",
   "id": "be2ee4c9",
   "metadata": {},
   "source": [
    "***"
   ]
  },
  {
   "cell_type": "markdown",
   "id": "fda79907",
   "metadata": {},
   "source": [
    "### 2. Neural Network visualisation"
   ]
  },
  {
   "cell_type": "markdown",
   "id": "48fdbceb",
   "metadata": {},
   "source": [
    "Now that we have loaded some information in our `MolearnAnalysis` object, it's time to explore its contents! To this end, we will use a `MolearnGUI` object, creating an interactive interface!"
   ]
  },
  {
   "cell_type": "code",
   "execution_count": null,
   "id": "e0123215",
   "metadata": {},
   "outputs": [],
   "source": [
    "from analysis import MolearnGUI"
   ]
  },
  {
   "cell_type": "code",
   "execution_count": null,
   "id": "ab213004",
   "metadata": {},
   "outputs": [],
   "source": [
    "MG = MolearnGUI(MA)"
   ]
  },
  {
   "cell_type": "markdown",
   "id": "8d3ea2bb",
   "metadata": {},
   "source": [
    "The interface is divided in three areas: a control panel (left), a 2D latent space representation (center) and a 3D protein view (right, initially empty). Here are instructions on how to use it:\n",
    "\n",
    "* the click boxes in the interface enable displaying training and test set projections in the latent space area. If the test set was not loaded in the the `MolearnAnalysis` object, the box will be grayed out.\n",
    "\n",
    "* the **drop down menu and scroller** enable colouring the latent space surface in different ways. Colouring styles available will depend on whether grid sampling methods have been called in the MolearnAnalysis object, before the GUI was started.\n",
    "\n",
    "* the **2D surface is clickable**. Clicking multiple times enables defining a path. \n",
    "The coordinates of clicked points appear in the **editable text box** to the bottom left as (x1, y1, x2, y2, ...). \n",
    "\n",
    "* When clicking the latent space, a **3D protein structure** will appear on the right. The representation will feature a number of conformations equal to the number of points clicked on the latent space, to which extra **sampling points** are added. By default, 10 extra points are added in each interval. This value can be edited in the menu on the left.\n",
    "\n",
    "* The interpolation visible on the right can be saved into a multiPDB file via the button labelled \"**Save PDB**\" to the bottom of the menu on the left.\n"
   ]
  },
  {
   "cell_type": "markdown",
   "id": "dd23d89b",
   "metadata": {},
   "source": [
    "You got to the end of this notebook! If you are interested in knowing what is happening inside the MolearnAnalysis object, see the Juptyer notebook `molearn_analysis.ipynb`."
   ]
  },
  {
   "cell_type": "markdown",
   "id": "89e9d18b",
   "metadata": {},
   "source": [
    "***"
   ]
  }
 ],
 "metadata": {
  "kernelspec": {
   "display_name": "Python 3 (ipykernel)",
   "language": "python",
   "name": "python3"
  },
  "language_info": {
   "codemirror_mode": {
    "name": "ipython",
    "version": 3
   },
   "file_extension": ".py",
   "mimetype": "text/x-python",
   "name": "python",
   "nbconvert_exporter": "python",
   "pygments_lexer": "ipython3",
   "version": "3.9.10"
  }
 },
 "nbformat": 4,
 "nbformat_minor": 5
}
