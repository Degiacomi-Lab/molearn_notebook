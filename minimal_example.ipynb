{
 "cells": [
  {
   "cell_type": "code",
   "execution_count": null,
   "id": "48c043f0",
   "metadata": {},
   "outputs": [],
   "source": [
    "import sys, os\n",
    "sys.path.insert(0, \"C:\\\\Users\\\\xdzl45\\\\workspace\\\\molearn\\\\src\") #uncomment/edit as appropriate for your system\n",
    "import molearn\n",
    "from molearn.autoencoder import Autoencoder\n",
    "import torch\n",
    "from copy import deepcopy\n",
    "import biobox as bb\n",
    "import numpy as np\n",
    "from molearn.analysis import MolearnAnalysis, MolearnGUI\n",
    "\n",
    "# input files\n",
    "networkfile = f'data{os.sep}checkpoint_epoch2872.ckpt'\n",
    "training_set_file = f'data{os.sep}MurD_closed_open_strided.pdb'\n",
    "test_set_file = f'data{os.sep}MurD_closed_apo_strided.pdb'\n",
    "\n",
    "print(\"Loading network\")\n",
    "checkpoint = torch.load(networkfile, map_location= torch.device('cpu'))\n",
    "net = Autoencoder(**checkpoint['network_kwargs'])\n",
    "net.load_state_dict(checkpoint['model_state_dict'])\n",
    "\n",
    "print(\"Loading data\")\n",
    "MA = MolearnAnalysis()\n",
    "MA.set_network(net)\n",
    "MA.set_train_data(training_set_file)\n",
    "MA.set_test_data(test_set_file)\n",
    "\n",
    "print(\"Scanning landscape error\")\n",
    "landscape_err_latent, landscape_err_3d, xaxis, yaxis = MA.scan_error(samples=50)\n",
    "\n",
    "print(\"Scanning landscape with custom function\")\n",
    "def f_distance(crd, M, idx1, idx2):\n",
    "    M.coordinates = deepcopy(crd)\n",
    "    M.set_current(0)\n",
    "    return np.sqrt(np.sum(M.points[idx2]-M.points[idx1])**2)\n",
    "\n",
    "_, idx1 = MA.mol.atomselect(\"*\", 1, \"CA\", get_index=True) # find index of first atom of interest\n",
    "_, idx2 = MA.mol.atomselect(\"*\", 300, \"CA\", get_index=True)  # find index of second atom of interest\n",
    "dist, xaxis, yaxis = MA.scan_custom(f_distance, [MA.mol, idx1, idx2], \"dist\", samples=50)"
   ]
  },
  {
   "cell_type": "code",
   "execution_count": null,
   "id": "7b586448",
   "metadata": {},
   "outputs": [],
   "source": [
    "MG = MolearnGUI(MA)"
   ]
  },
  {
   "cell_type": "markdown",
   "id": "22630057",
   "metadata": {},
   "source": [
    "---"
   ]
  }
 ],
 "metadata": {
  "kernelspec": {
   "display_name": "Python 3 (ipykernel)",
   "language": "python",
   "name": "python3"
  },
  "language_info": {
   "codemirror_mode": {
    "name": "ipython",
    "version": 3
   },
   "file_extension": ".py",
   "mimetype": "text/x-python",
   "name": "python",
   "nbconvert_exporter": "python",
   "pygments_lexer": "ipython3",
   "version": "3.9.13"
  }
 },
 "nbformat": 4,
 "nbformat_minor": 5
}
