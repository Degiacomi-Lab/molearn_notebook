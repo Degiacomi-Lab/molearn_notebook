{
 "cells": [
  {
   "cell_type": "code",
   "execution_count": 1,
   "id": "48c043f0",
   "metadata": {},
   "outputs": [
    {
     "name": "stderr",
     "output_type": "stream",
     "text": [
      "C:\\Users\\xdzl45\\workspace\\molearn\\src\\molearn\\loss_functions\\openmm_thread.py:13: UserWarning: No module named 'torchexposedintegratorplugin'. Will not be able to use openmm.\n",
      "  warnings.warn(f'{e}. Will not be able to use openmm.')\n",
      "C:\\Users\\xdzl45\\workspace\\molearn\\src\\molearn\\trainers\\sinkhorn_trainer.py:15: UserWarning: No module named 'geomloss'. Will not be able to use sinkhorn because geomloss is not installed.\n",
      "  warnings.warn(f'{e}. Will not be able to use sinkhorn because geomloss is not installed.')\n"
     ]
    },
    {
     "data": {
      "application/vnd.jupyter.widget-view+json": {
       "model_id": "eba1cb0f152941cc930ee943fa778c8d",
       "version_major": 2,
       "version_minor": 0
      },
      "text/plain": []
     },
     "metadata": {},
     "output_type": "display_data"
    },
    {
     "name": "stdout",
     "output_type": "stream",
     "text": [
      "Loading network\n",
      "Loading data\n",
      "Dataset.shape: torch.Size([1800, 3, 2145])\n",
      "mean: 44.57135474712939, std: 14.056555172534024\n",
      "Dataset.shape: torch.Size([900, 3, 2145])\n",
      "mean: 44.04523070482608, std: 14.056555172534024\n"
     ]
    }
   ],
   "source": [
    "import sys, os\n",
    "sys.path.insert(0, f\"C:{os.sep}Users{os.sep}xdzl45{os.sep}workspace{os.sep}molearn{os.sep}src\") #uncomment/edit as appropriate for your system\n",
    "from molearn.data import PDBData\n",
    "from molearn.models.foldingnet import AutoEncoder\n",
    "from molearn.analysis import MolearnAnalysis, MolearnGUI\n",
    "import torch\n",
    "from copy import deepcopy\n",
    "import biobox as bb\n",
    "import numpy as np\n",
    "\n",
    "\n",
    "# input files\n",
    "networkfile = f'data{os.sep}checkpoint_no_optimizer_state_dict_epoch167_loss0.003259085263643.ckpt'\n",
    "training_set_files = [f'data{os.sep}MurD_open_selection.pdb', f'data{os.sep}MurD_open_selection.pdb']\n",
    "test_set_file = f'data{os.sep}MurD_closed_apo_selection.pdb'\n",
    "\n",
    "print(\"Loading network\")\n",
    "checkpoint = torch.load(networkfile, map_location= torch.device('cpu'))\n",
    "net = AutoEncoder(**checkpoint['network_kwargs'])\n",
    "net.load_state_dict(checkpoint['model_state_dict'])\n",
    "\n",
    "print(\"Loading training set\")\n",
    "data = PDBData()\n",
    "for f in training_set_files:\n",
    "    data.import_pdb(f)\n",
    "data.atomselect(atoms=['CA', 'C', 'CB', 'N', 'O'])\n",
    "data.prepare_dataset()\n",
    "train_data, valid_data = data.split(manual_seed=25) # same manual seed used in the training script\n",
    "\n",
    "print(\"Loading test set\")\n",
    "test_data = PDBData()\n",
    "test_data.import_pdb(test_set_file)\n",
    "test_data.atomselect(atoms=['CA', 'C', 'CB', 'N', 'O'])\n",
    "test_data.std = data.std\n",
    "test_data.prepare_dataset()\n",
    "\n",
    "MA = MolearnAnalysis()\n",
    "MA.set_network(net)\n",
    "MA.set_dataset('training', train_data)\n",
    "MA.set_dataset('validation', valid_data)\n",
    "MA.set_dataset('test', test_data)\n",
    "\n",
    "#print(\"Scanning landscape error\")\n",
    "#MA.setup_grid(30)\n",
    "#landscape_err_latent, landscape_err_3d, xaxis, yaxis = MA.scan_error()\n",
    "\n",
    "#print(\"Scanning landscape with custom function\")\n",
    "#def f_distance(crd, M, idx1, idx2):\n",
    "#    M.coordinates = deepcopy(crd)\n",
    "#    M.set_current(0)\n",
    "#    return np.sqrt(np.sum(M.points[idx2]-M.points[idx1])**2)\n",
    "\n",
    "#_, idx1 = MA.mol.atomselect(\"*\", 1, \"CA\", get_index=True) # find index of first atom of interest\n",
    "#_, idx2 = MA.mol.atomselect(\"*\", 300, \"CA\", get_index=True)  # find index of second atom of interest\n",
    "#dist, xaxis, yaxis = MA.scan_custom(f_distance, [MA.mol, idx1, idx2], \"dist\", samples=50)"
   ]
  },
  {
   "cell_type": "code",
   "execution_count": null,
   "id": "7b586448",
   "metadata": {},
   "outputs": [],
   "source": [
    "MG = MolearnGUI(MA)"
   ]
  },
  {
   "cell_type": "markdown",
   "id": "22630057",
   "metadata": {},
   "source": [
    "---"
   ]
  }
 ],
 "metadata": {
  "kernelspec": {
   "display_name": "Python 3 (ipykernel)",
   "language": "python",
   "name": "python3"
  },
  "language_info": {
   "codemirror_mode": {
    "name": "ipython",
    "version": 3
   },
   "file_extension": ".py",
   "mimetype": "text/x-python",
   "name": "python",
   "nbconvert_exporter": "python",
   "pygments_lexer": "ipython3",
   "version": "3.9.13"
  }
 },
 "nbformat": 4,
 "nbformat_minor": 5
}
